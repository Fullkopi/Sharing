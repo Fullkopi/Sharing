{
  "nbformat": 4,
  "nbformat_minor": 0,
  "metadata": {
    "colab": {
      "provenance": [],
      "gpuType": "T4",
      "authorship_tag": "ABX9TyM80lMiFDVUNX9ZaYZczJc5",
      "include_colab_link": true
    },
    "kernelspec": {
      "name": "python3",
      "display_name": "Python 3"
    },
    "language_info": {
      "name": "python"
    },
    "accelerator": "GPU"
  },
  "cells": [
    {
      "cell_type": "markdown",
      "metadata": {
        "id": "view-in-github",
        "colab_type": "text"
      },
      "source": [
        "<a href=\"https://colab.research.google.com/github/Fullkopi/Sharing/blob/main/Patch_based_MLP_Denoising_Autoencoder.ipynb\" target=\"_parent\"><img src=\"https://colab.research.google.com/assets/colab-badge.svg\" alt=\"Open In Colab\"/></a>"
      ]
    },
    {
      "cell_type": "code",
      "source": [
        "# Import necessary libraries\n",
        "import numpy as np\n",
        "import tensorflow as tf\n",
        "from tensorflow.keras import layers, models\n",
        "from tensorflow.keras.datasets import mnist\n",
        "from tensorflow.keras.utils import to_categorical"
      ],
      "metadata": {
        "id": "ttrTHQYK1WAY"
      },
      "execution_count": null,
      "outputs": []
    },
    {
      "cell_type": "code",
      "source": [
        "# Load the MNIST dataset\n",
        "(train_images, train_labels), (test_images, test_labels) = mnist.load_data()\n",
        "\n",
        "# Normalize and reshape the data\n",
        "train_images = train_images.astype('float32') / 255.0\n",
        "test_images = test_images.astype('float32') / 255.0\n",
        "train_images = train_images.reshape((-1, 28, 28, 1))\n",
        "test_images = test_images.reshape((-1, 28, 28, 1))"
      ],
      "metadata": {
        "colab": {
          "base_uri": "https://localhost:8080/"
        },
        "id": "80iFbgAy1dE1",
        "outputId": "8998a6a9-e520-4b54-9c7c-bfff237cbc50"
      },
      "execution_count": null,
      "outputs": [
        {
          "output_type": "stream",
          "name": "stdout",
          "text": [
            "Downloading data from https://storage.googleapis.com/tensorflow/tf-keras-datasets/mnist.npz\n",
            "11490434/11490434 [==============================] - 1s 0us/step\n"
          ]
        }
      ]
    },
    {
      "cell_type": "code",
      "source": [
        "# Add noise to randomly chosen 8x8 patches\n",
        "def add_patch_noise(images, patch_size=8, noise_factor=0.5):\n",
        "    noisy_images = np.copy(images)\n",
        "    for i in range(len(images)):\n",
        "        x, y = np.random.randint(0, 28 - patch_size, 2)\n",
        "        patch = noisy_images[i, x:x+patch_size, y:y+patch_size]\n",
        "        noisy_patch = patch + noise_factor * np.ones((patch_size, patch_size)).reshape(8,8,1)\n",
        "        noisy_patch = np.clip(noisy_patch, 0.0, 1.0)\n",
        "        noisy_images[i, x:x+patch_size, y:y+patch_size] = noisy_patch\n",
        "    return noisy_images"
      ],
      "metadata": {
        "id": "YV27Drfj1grX"
      },
      "execution_count": null,
      "outputs": []
    },
    {
      "cell_type": "code",
      "source": [
        "# Add noise to the training and testing data\n",
        "noise_factor = 0.7\n",
        "train_noisy = add_patch_noise(train_images, noise_factor=noise_factor)\n",
        "test_noisy = add_patch_noise(test_images, noise_factor=noise_factor)"
      ],
      "metadata": {
        "id": "uIqENY2h7HdQ"
      },
      "execution_count": null,
      "outputs": []
    },
    {
      "cell_type": "code",
      "source": [
        "# Define the MLP denoising autoencoder model\n",
        "def build_denoising_autoencoder():\n",
        "    input_img = tf.keras.Input(shape=(28, 28, 1))\n",
        "\n",
        "    # Encoder\n",
        "    x = layers.Flatten()(input_img)\n",
        "    encoded = layers.Dense(128, activation='relu')(x)\n",
        "\n",
        "    # Decoder\n",
        "    x = layers.Dense(128, activation='relu')(encoded)\n",
        "    decoded = layers.Dense(28 * 28, activation='sigmoid')(x)\n",
        "    decoded = layers.Reshape((28, 28, 1))(decoded)\n",
        "\n",
        "    autoencoder = models.Model(input_img, decoded)\n",
        "    autoencoder.compile(optimizer='adam', loss='mean_squared_error')\n",
        "\n",
        "    return autoencoder"
      ],
      "metadata": {
        "id": "JMM7hzOP7UGQ"
      },
      "execution_count": null,
      "outputs": []
    },
    {
      "cell_type": "code",
      "source": [
        "# Create and compile the denoising autoencoder model\n",
        "autoencoder = build_denoising_autoencoder()"
      ],
      "metadata": {
        "id": "lB14tIBv7kpV"
      },
      "execution_count": null,
      "outputs": []
    },
    {
      "cell_type": "code",
      "source": [
        "# Train the autoencoder\n",
        "autoencoder.fit(train_noisy, train_images, epochs=10, batch_size=128, shuffle=True, validation_data=(test_noisy, test_images))"
      ],
      "metadata": {
        "colab": {
          "base_uri": "https://localhost:8080/"
        },
        "id": "zOY_oGwW7r_h",
        "outputId": "93ba157f-baec-45a9-9fd7-862d2efed08d"
      },
      "execution_count": null,
      "outputs": [
        {
          "output_type": "stream",
          "name": "stdout",
          "text": [
            "Epoch 1/10\n",
            "469/469 [==============================] - 9s 5ms/step - loss: 0.0426 - val_loss: 0.0224\n",
            "Epoch 2/10\n",
            "469/469 [==============================] - 2s 4ms/step - loss: 0.0183 - val_loss: 0.0150\n",
            "Epoch 3/10\n",
            "469/469 [==============================] - 2s 4ms/step - loss: 0.0138 - val_loss: 0.0127\n",
            "Epoch 4/10\n",
            "469/469 [==============================] - 3s 6ms/step - loss: 0.0118 - val_loss: 0.0109\n",
            "Epoch 5/10\n",
            "469/469 [==============================] - 2s 4ms/step - loss: 0.0105 - val_loss: 0.0099\n",
            "Epoch 6/10\n",
            "469/469 [==============================] - 2s 4ms/step - loss: 0.0096 - val_loss: 0.0092\n",
            "Epoch 7/10\n",
            "469/469 [==============================] - 2s 4ms/step - loss: 0.0090 - val_loss: 0.0086\n",
            "Epoch 8/10\n",
            "469/469 [==============================] - 2s 4ms/step - loss: 0.0085 - val_loss: 0.0083\n",
            "Epoch 9/10\n",
            "469/469 [==============================] - 2s 4ms/step - loss: 0.0081 - val_loss: 0.0081\n",
            "Epoch 10/10\n",
            "469/469 [==============================] - 3s 6ms/step - loss: 0.0078 - val_loss: 0.0076\n"
          ]
        },
        {
          "output_type": "execute_result",
          "data": {
            "text/plain": [
              "<keras.src.callbacks.History at 0x790cf7d5ceb0>"
            ]
          },
          "metadata": {},
          "execution_count": 7
        }
      ]
    },
    {
      "cell_type": "code",
      "source": [
        "# Evaluate the model\n",
        "score = autoencoder.evaluate(test_noisy, test_images)\n",
        "print(f\"Test loss: {score}\")"
      ],
      "metadata": {
        "colab": {
          "base_uri": "https://localhost:8080/"
        },
        "id": "11RGFK5u8B2Z",
        "outputId": "87a3a567-62fa-4086-fdb7-2292702d3339"
      },
      "execution_count": null,
      "outputs": [
        {
          "output_type": "stream",
          "name": "stdout",
          "text": [
            "313/313 [==============================] - 1s 2ms/step - loss: 0.0076\n",
            "Test loss: 0.007606444414705038\n"
          ]
        }
      ]
    },
    {
      "cell_type": "code",
      "source": [
        "# Use the trained autoencoder to denoise images\n",
        "denoised_images = autoencoder.predict(test_noisy)"
      ],
      "metadata": {
        "colab": {
          "base_uri": "https://localhost:8080/"
        },
        "id": "_SqZw3EL8MaH",
        "outputId": "38c06263-8d0c-4c32-c146-e6c9d03edb40"
      },
      "execution_count": null,
      "outputs": [
        {
          "output_type": "stream",
          "name": "stdout",
          "text": [
            "313/313 [==============================] - 1s 2ms/step\n"
          ]
        }
      ]
    },
    {
      "cell_type": "code",
      "source": [
        "# Optionally, visualize the results\n",
        "import matplotlib.pyplot as plt\n",
        "\n",
        "n = 10  # Number of images to display\n",
        "plt.figure(figsize=(20, 4))\n",
        "for i in range(n):\n",
        "    # Display original images\n",
        "    ax = plt.subplot(2, n, i + 1)\n",
        "    plt.imshow(test_noisy[i].reshape(28, 28))\n",
        "    plt.gray()\n",
        "    ax.get_xaxis().set_visible(False)\n",
        "    ax.get_yaxis().set_visible(False)\n",
        "\n",
        "    # Display denoised images\n",
        "    ax = plt.subplot(2, n, i + 1 + n)\n",
        "    plt.imshow(denoised_images[i].reshape(28, 28))\n",
        "    plt.gray()\n",
        "    ax.get_xaxis().set_visible(False)\n",
        "    ax.get_yaxis().set_visible(False)\n",
        "\n",
        "plt.show()"
      ],
      "metadata": {
        "colab": {
          "base_uri": "https://localhost:8080/",
          "height": 295
        },
        "id": "zl40WeEQ8OMb",
        "outputId": "449f2cb6-120e-414a-9890-3e9f44d48276"
      },
      "execution_count": null,
      "outputs": [
        {
          "output_type": "display_data",
          "data": {
            "text/plain": [
              "<Figure size 2000x400 with 20 Axes>"
            ],
            "image/png": "[encoded data removed]"
          },
          "metadata": {}
        }
      ]
    }
  ]
}